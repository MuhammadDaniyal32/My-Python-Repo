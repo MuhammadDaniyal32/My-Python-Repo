{
 "cells": [
  {
   "cell_type": "code",
   "execution_count": 31,
   "id": "f76c69a8",
   "metadata": {},
   "outputs": [
    {
     "name": "stdout",
     "output_type": "stream",
     "text": [
      "Twinkle,twinkle,little star,\n",
      "\tHow I wonder what you are!\n",
      "\t\tUp above the world so high,\n",
      "\t\tLike a diamond in the sky.\n",
      "Twinkle,twinkle,little star,\n",
      "\tHow I wonder what you are.\n"
     ]
    }
   ],
   "source": [
    "#Task.1\n",
    "print(\"Twinkle,twinkle,little star,\\n\\tHow I wonder what you are!\\n\\t\\tUp above the world so high,\\n\\t\\tLike a diamond in the sky.\\nTwinkle,twinkle,little star,\\n\\tHow I wonder what you are.\")"
   ]
  },
  {
   "cell_type": "code",
   "execution_count": 2,
   "id": "0617cee2",
   "metadata": {},
   "outputs": [
    {
     "name": "stdout",
     "output_type": "stream",
     "text": [
      "Python version: 3.9.7 (default, Sep 16 2021, 16:59:28) [MSC v.1916 64 bit (AMD64)]\n"
     ]
    }
   ],
   "source": [
    "#Task.2\n",
    "import sys\n",
    "print(\"Python version: \"+sys.version)"
   ]
  },
  {
   "cell_type": "code",
   "execution_count": null,
   "id": "1b725270",
   "metadata": {},
   "outputs": [],
   "source": [
    "#Task.3\n",
    "import datetime\n",
    "print (\"Current date and time : \"+datetime.datetime.now().strftime(\"%d/%m/%Y %H:%M:%S\"))"
   ]
  },
  {
   "cell_type": "code",
   "execution_count": null,
   "id": "47930355",
   "metadata": {},
   "outputs": [],
   "source": [
    "#Task.4\n",
    "radius = input(\"Please Enter Radius Of A Circle To Compute Its Area:\");\n",
    "radius_as_float = float(radius);\n",
    "PI = 3.14;\n",
    "area = PI * radius_as_float * radius_as_float;\n",
    "print(\"Area Of Circle Is =%f\"%area);"
   ]
  },
  {
   "cell_type": "code",
   "execution_count": 29,
   "id": "faaa986c",
   "metadata": {},
   "outputs": [
    {
     "name": "stdout",
     "output_type": "stream",
     "text": [
      "Enter Your First Name:daniyal\n",
      "Enter Your Last Name:noor\n",
      "Orginal String: daniyal noor\n",
      "Reversed String: r\to\to\tn\tl\ta\ty\ti\tn\ta\td\t\n"
     ]
    }
   ],
   "source": [
    "#Task.5\n",
    "firstname = input(\"Enter Your First Name:\");\n",
    "lastname = input(\"Enter Your Last Name:\");\n",
    "print(\"Orginal String: \"+firstname+\" \"+lastname);\n",
    "print(\"Reversed String: \"+reverse(firstname+lastname));\n",
    "def reverse(s):\n",
    "  str = \"\"\n",
    "  for i in s:\n",
    "    str = i +\"\\t\"+ str\n",
    "  return str"
   ]
  },
  {
   "cell_type": "code",
   "execution_count": 1,
   "id": "e8bb6b0d",
   "metadata": {},
   "outputs": [
    {
     "name": "stdout",
     "output_type": "stream",
     "text": [
      "enter value for a:23\n",
      "enter value for b:23\n",
      "46\n"
     ]
    }
   ],
   "source": [
    "#Task.6\n",
    "a=int(input(\"enter value for a:\"));\n",
    "b=int(input(\"enter value for b:\"));\n",
    "print(a+b);"
   ]
  }
 ],
 "metadata": {
  "kernelspec": {
   "display_name": "Python 3 (ipykernel)",
   "language": "python",
   "name": "python3"
  },
  "language_info": {
   "codemirror_mode": {
    "name": "ipython",
    "version": 3
   },
   "file_extension": ".py",
   "mimetype": "text/x-python",
   "name": "python",
   "nbconvert_exporter": "python",
   "pygments_lexer": "ipython3",
   "version": "3.9.7"
  }
 },
 "nbformat": 4,
 "nbformat_minor": 5
}
